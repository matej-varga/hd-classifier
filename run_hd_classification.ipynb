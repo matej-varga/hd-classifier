{
  "nbformat": 4,
  "nbformat_minor": 0,
  "metadata": {
    "colab": {
      "provenance": []
    },
    "kernelspec": {
      "name": "python3",
      "display_name": "Python 3"
    },
    "language_info": {
      "name": "python"
    }
  },
  "cells": [
    {
      "cell_type": "markdown",
      "source": [
        "# Hirschsprung Disease Classification CNN"
      ],
      "metadata": {
        "id": "n--UgQ2Xi--8"
      }
    },
    {
      "cell_type": "markdown",
      "source": [
        "## Setup and Imports"
      ],
      "metadata": {
        "id": "aKDyXJ-zjITW"
      }
    },
    {
      "cell_type": "code",
      "source": [
        "import glob\n",
        "import cv2\n",
        "import numpy as np\n",
        "import tensorflow as tf\n",
        "from tensorflow.keras.applications import DenseNet121\n",
        "from tensorflow.keras.layers import GlobalAveragePooling2D, Dropout, Dense\n",
        "from tensorflow.keras.models import Model\n",
        "from tensorflow.keras.optimizers import Adam"
      ],
      "metadata": {
        "id": "eFPoQRfbjC62"
      },
      "execution_count": 1,
      "outputs": []
    },
    {
      "cell_type": "markdown",
      "source": [
        "## Helper Functions"
      ],
      "metadata": {
        "id": "ETrqEgs6jLkb"
      }
    },
    {
      "cell_type": "code",
      "source": [
        "def load_and_preprocess_image(img_path, img_size=(224, 224)):\n",
        "    \"\"\"\n",
        "    Load a grayscale image, resize, convert to 3-channel, and normalize.\n",
        "    \"\"\"\n",
        "    img = cv2.imread(img_path, cv2.IMREAD_GRAYSCALE)\n",
        "    if img is None:\n",
        "        raise IOError(f\"Cannot read image: {img_path}\")\n",
        "    img = cv2.resize(img, img_size)\n",
        "    img = np.stack([img]*3, axis=-1).astype('float32') / 255.0\n",
        "    return np.expand_dims(img, axis=0)"
      ],
      "metadata": {
        "id": "49SJGgVLjN-3"
      },
      "execution_count": 2,
      "outputs": []
    },
    {
      "cell_type": "code",
      "source": [
        "def build_model(input_shape=(224,224,3)):\n",
        "    \"\"\"\n",
        "    Create DenseNet121 base with custom top for binary classification.\n",
        "    \"\"\"\n",
        "    base = DenseNet121(weights=None, include_top=False, input_shape=input_shape)\n",
        "    x = GlobalAveragePooling2D()(base.output)\n",
        "    x = Dropout(0.25)(x)\n",
        "    out = Dense(1, activation='sigmoid')(x)\n",
        "    model = Model(base.input, out)\n",
        "    for layer in base.layers:\n",
        "        layer.trainable = False\n",
        "    model.compile(optimizer=Adam(1e-3), loss='binary_crossentropy', metrics=['accuracy'])\n",
        "    return model"
      ],
      "metadata": {
        "id": "a56Uhg1LjOho"
      },
      "execution_count": 3,
      "outputs": []
    },
    {
      "cell_type": "markdown",
      "source": [
        "## Load Model"
      ],
      "metadata": {
        "id": "kDHja7kRjYmD"
      }
    },
    {
      "cell_type": "code",
      "source": [
        "model = build_model()\n",
        "model.load_weights('model/hd_classifier.h5')\n",
        "print(\"Model loaded successfully.\")"
      ],
      "metadata": {
        "colab": {
          "base_uri": "https://localhost:8080/"
        },
        "id": "o3BYqAHyjZAe",
        "outputId": "a50b4fb7-d4da-4202-e0b2-a2ff72675916"
      },
      "execution_count": 5,
      "outputs": [
        {
          "output_type": "stream",
          "name": "stdout",
          "text": [
            "Model loaded successfully.\n"
          ]
        }
      ]
    },
    {
      "cell_type": "markdown",
      "source": [
        "## Run Predictions"
      ],
      "metadata": {
        "id": "R7w0FVMGjcTN"
      }
    },
    {
      "cell_type": "markdown",
      "source": [
        "### Positive class example"
      ],
      "metadata": {
        "id": "YD0609K4js24"
      }
    },
    {
      "cell_type": "code",
      "source": [
        "image_dir = 'data/positive'\n",
        "threshold = 0.46859\n",
        "paths = glob.glob(f\"{image_dir}/*\")\n",
        "results = []\n",
        "\n",
        "print(f\"Predicting {len(paths)} images from '{image_dir}'...\\n\")\n",
        "for p in paths:\n",
        "    img = load_and_preprocess_image(p)\n",
        "    prob = float(model.predict(img, verbose=0)[0,0])\n",
        "    label = int(prob > threshold)\n",
        "    results.append(label)\n",
        "    print(p, '| class =', label, f'| prob = {prob:.4f}')\n",
        "\n",
        "if results:\n",
        "    ratio = sum(results)/len(results)\n",
        "    overall = int(ratio >= 0.5)\n",
        "    print(f\"\\nOverall patient class = {overall} (ratio = {ratio:.2f})\")\n",
        "else:\n",
        "    print(\"No images found.\")"
      ],
      "metadata": {
        "colab": {
          "base_uri": "https://localhost:8080/"
        },
        "id": "UIeep2qnjetU",
        "outputId": "4586351c-8901-42a9-b981-65840d79ee78"
      },
      "execution_count": 6,
      "outputs": [
        {
          "output_type": "stream",
          "name": "stdout",
          "text": [
            "Predicting 3 images from 'data/positive'...\n",
            "\n",
            "data/positive/Patient_1_Image_3.png | class = 1 | prob = 0.6942\n",
            "data/positive/Patient_1_Image_2.png | class = 1 | prob = 0.7458\n",
            "data/positive/Patient_1_Image_1.png | class = 1 | prob = 0.5016\n",
            "\n",
            "Overall patient class = 1 (ratio = 1.00)\n"
          ]
        }
      ]
    },
    {
      "cell_type": "markdown",
      "source": [
        "### Negative class example"
      ],
      "metadata": {
        "id": "cJJ1sQhYjv-O"
      }
    },
    {
      "cell_type": "code",
      "source": [
        "image_dir = 'data/negative'\n",
        "threshold = 0.46859\n",
        "paths = glob.glob(f\"{image_dir}/*\")\n",
        "results = []\n",
        "\n",
        "print(f\"Predicting {len(paths)} images from '{image_dir}'...\\n\")\n",
        "for p in paths:\n",
        "    img = load_and_preprocess_image(p)\n",
        "    prob = float(model.predict(img, verbose=0)[0,0])\n",
        "    label = int(prob > threshold)\n",
        "    results.append(label)\n",
        "    print(p, '| class =', label, f'| prob = {prob:.4f}')\n",
        "\n",
        "if results:\n",
        "    ratio = sum(results)/len(results)\n",
        "    overall = int(ratio >= 0.5)\n",
        "    print(f\"\\nOverall patient class = {overall} (ratio = {ratio:.2f})\")\n",
        "else:\n",
        "    print(\"No images found.\")"
      ],
      "metadata": {
        "colab": {
          "base_uri": "https://localhost:8080/"
        },
        "id": "E7BzOb7djm-t",
        "outputId": "107181a2-bc10-4c1a-d4ed-a258345b6636"
      },
      "execution_count": 7,
      "outputs": [
        {
          "output_type": "stream",
          "name": "stdout",
          "text": [
            "Predicting 4 images from 'data/negative'...\n",
            "\n",
            "data/negative/Patient_2_Image_4.png | class = 0 | prob = 0.1168\n",
            "data/negative/Patient_2_Image_2.png | class = 0 | prob = 0.1920\n",
            "data/negative/Patient_2_Image_3.png | class = 0 | prob = 0.0786\n",
            "data/negative/Patient_2_Image_1.png | class = 0 | prob = 0.2124\n",
            "\n",
            "Overall patient class = 0 (ratio = 0.00)\n"
          ]
        }
      ]
    }
  ]
}